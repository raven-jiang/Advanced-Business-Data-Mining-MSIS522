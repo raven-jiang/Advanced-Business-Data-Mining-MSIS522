{
  "nbformat": 4,
  "nbformat_minor": 0,
  "metadata": {
    "colab": {
      "name": "MSIS522-Lab1-Solution.ipynb",
      "provenance": [],
      "collapsed_sections": []
    },
    "kernelspec": {
      "name": "python3",
      "display_name": "Python 3"
    }
  },
  "cells": [
    {
      "cell_type": "markdown",
      "metadata": {
        "id": "5I-2yXs3q5HL",
        "colab_type": "text"
      },
      "source": [
        "# MSIS522 Lab 1"
      ]
    },
    {
      "cell_type": "markdown",
      "metadata": {
        "id": "p_sr0_UurLmX",
        "colab_type": "text"
      },
      "source": [
        "## Introduction to Pandas\n",
        "\n",
        "pandas is designed to make it easier to work with structured data. Most of the analyses you might perform will likely involve using tabular data, e.g., from .csv files or relational databases (e.g., SQL). The pandas name itself is derived from panel data, an econometrics term for multidimensional structured data sets, and Python data analysis itself. In this notebook, we will go through some examples to get you familiar with the pandas package."
      ]
    },
    {
      "cell_type": "code",
      "metadata": {
        "id": "DgaRfWi-qrQw",
        "colab_type": "code",
        "colab": {}
      },
      "source": [
        "# import pandas using the conventional abbreviation\n",
        "import numpy as np\n",
        "import pandas as pd"
      ],
      "execution_count": 0,
      "outputs": []
    },
    {
      "cell_type": "markdown",
      "metadata": {
        "id": "PAoE6td7rZP7",
        "colab_type": "text"
      },
      "source": [
        "### Series and DataFrame in Pandas\n",
        "There are two fundamental data structures in Pandas:\n",
        "- Series: a one-dimensional array of indexed data. (the equivalent of _vector_ in R)\n",
        "- DataFrame: a two-dimensional array of indexed data. (the equivalent of _data frame_ in R)\n",
        "\n",
        "We can create pandas series and dataframes from raw data as follows."
      ]
    },
    {
      "cell_type": "code",
      "metadata": {
        "id": "V2Uh8kkyrSM6",
        "colab_type": "code",
        "colab": {}
      },
      "source": [
        "# create a pandas series\n",
        "s = pd.Series([0.25, 0.5, 0.75, 1.0], index=['a', 'b', 'c', 'd'])\n",
        "print(\"This is a pandas series:\")\n",
        "display(s)\n",
        "\n",
        "# you can access the number in a pandas series using either the labelled index or the integer index.\n",
        "print(\"Access the first number with labelled index: {0} and with integer index: {1}\".format(s['a'], s[0]))\n",
        "\n",
        "# create a pandas dataframe\n",
        "df = pd.DataFrame({\n",
        "    'value': [0.25, 0.5, 0.75, 1.0],\n",
        "    'label': ['A', 'B', 'C', 'D']\n",
        "})\n",
        "print(\"This is a pandas dataframe:\")\n",
        "display(df)\n",
        "\n",
        "df1 = pd.DataFrame({'x': s, 'y': s})\n",
        "print(\"This is another pandas dataframe:\")\n",
        "display(df1)"
      ],
      "execution_count": 0,
      "outputs": []
    },
    {
      "cell_type": "markdown",
      "metadata": {
        "id": "BHv0XOoCsYzJ",
        "colab_type": "text"
      },
      "source": [
        "#### Task 1"
      ]
    },
    {
      "cell_type": "code",
      "metadata": {
        "id": "WltN49Par8dx",
        "colab_type": "code",
        "colab": {}
      },
      "source": [
        "np.random.seed(0)  # seed for reproducibility\n",
        "\n",
        "feature = np.random.randint(10, size=6)\n",
        "label = np.array(['p', 'n', 'n', 'p', 'n', 'n'])\n",
        "row_index = np.array(['a', 'b', 'c', 'd', 'e', 'f'])\n",
        "\n",
        "\n",
        "# TODO: Create a dataframe from feature and label below with proper row index and col index.\n",
        "df2 = pd.DataFrame({\n",
        "    'feature': feature,\n",
        "    'label': label}, \n",
        "    index=row_index\n",
        ")\n",
        "display(df2)"
      ],
      "execution_count": 0,
      "outputs": []
    },
    {
      "cell_type": "markdown",
      "metadata": {
        "id": "rhAZA4rss5a9",
        "colab_type": "text"
      },
      "source": [
        "### Basic properties of a series or dataframe"
      ]
    },
    {
      "cell_type": "code",
      "metadata": {
        "id": "TLmIHw7-s8yi",
        "colab_type": "code",
        "colab": {}
      },
      "source": [
        "# basis properties of a series\n",
        "print(\"Length of the series: {}\".format(len(s)))\n",
        "print(\"Index names of the series: {}\".format(list(s.index)))\n",
        "\n",
        "# basis properties of a dataframe\n",
        "print(\"Column names of the dataframe: {}\".format(list(df.columns)))\n",
        "print(\"Index names of the dataframe: {}\".format(list(df.index)))\n",
        "print(\"Number of dimensions of the dataframe: {}\".format(df.ndim))\n",
        "print(\"Shape of the dataframe: {}\".format(df.shape))\n",
        "\n",
        "# statistics of a numerical data column\n",
        "display(df2['feature'].describe())\n",
        "\n",
        "# frequency of a categorical data column\n",
        "display(df2['label'].value_counts())\n"
      ],
      "execution_count": 0,
      "outputs": []
    },
    {
      "cell_type": "markdown",
      "metadata": {
        "id": "ktarp6zltSi0",
        "colab_type": "text"
      },
      "source": [
        "### Loading data into a Dataframe from text file"
      ]
    },
    {
      "cell_type": "code",
      "metadata": {
        "id": "tUAhcMnLs_Tx",
        "colab_type": "code",
        "colab": {}
      },
      "source": [
        "# read a csv file\n",
        "pop = pd.read_csv('https://raw.githubusercontent.com/zariable/data/master/state-population.csv')\n",
        "display(pop.head())\n",
        "\n",
        "# rename\n",
        "pop.rename(columns={\"state/region\": \"state\"}, inplace=True)\n",
        "display(pop.head())"
      ],
      "execution_count": 0,
      "outputs": []
    },
    {
      "cell_type": "markdown",
      "metadata": {
        "id": "-3wNlM1ftcVU",
        "colab_type": "text"
      },
      "source": [
        "### Data indexing, slicing and filtering\n",
        "To address a subset of data in a dataframe, we can use either [loc](https://pandas.pydata.org/pandas-docs/stable/generated/pandas.DataFrame.loc.html) or [iloc](https://pandas.pydata.org/pandas-docs/version/0.17.0/generated/pandas.DataFrame.iloc.html) functions in pandas API.\n",
        "- loc: Access a group of rows and columns by label(s) or a boolean array.\n",
        "- iloc: Purely integer-location based indexing for selection by position."
      ]
    },
    {
      "cell_type": "code",
      "metadata": {
        "id": "0sUHHWSKtdAX",
        "colab_type": "code",
        "colab": {}
      },
      "source": [
        "# indexing & slicing using index and column names\n",
        "display(pop.loc[2, ['state', 'population']])\n",
        "display(pop.loc[1:4, ['state', 'population']])\n",
        "\n",
        "# indexing & slicing using index and column integer indices\n",
        "display(pop.iloc[:3, :3])\n",
        "\n",
        "pop_age_year = pop.loc[:, ['ages', 'population']]\n",
        "display(pop_age_year.head())\n",
        "\n",
        "# filtering\n",
        "pop_2012 = pop.loc[pop['year'] == 2012, :]\n",
        "display(pop_2012.head())\n",
        "\n",
        "# filtering on multiple columns\n",
        "pop_2012_total = pop.loc[(pop['year'] == 2012) & (pop['ages'] == 'total'), :]\n",
        "display(pop_2012_total.head())\n",
        "\n",
        "# filtering and slicing\n",
        "pop_2012_total_2 = pop.loc[(pop['year'] == 2012) & (pop['ages'] == 'total'), ['state', 'population']]\n",
        "display(pop_2012_total_2.head())"
      ],
      "execution_count": 0,
      "outputs": []
    },
    {
      "cell_type": "markdown",
      "metadata": {
        "id": "uTapNimctkY4",
        "colab_type": "text"
      },
      "source": [
        "#### Task 2"
      ]
    },
    {
      "cell_type": "code",
      "metadata": {
        "id": "lDn2YVbitf8c",
        "colab_type": "code",
        "colab": {}
      },
      "source": [
        "# TODO: Find the total population for WA in year 2010.\n",
        "pop.loc[(pop['year'] == 2010) & (pop['ages'] == 'total') & (pop['state'] == 'WA'), :]"
      ],
      "execution_count": 0,
      "outputs": []
    },
    {
      "cell_type": "code",
      "metadata": {
        "id": "aww6nBUKttKp",
        "colab_type": "code",
        "colab": {}
      },
      "source": [
        "# TODO: Calculate the median of population for all age groups across all states in 2010.\n",
        "pop_2010_all = pop.loc[(pop['year'] == 2010) & (pop['ages'] == 'total'), :]\n",
        "pop_2010_all['population'].median()"
      ],
      "execution_count": 0,
      "outputs": []
    },
    {
      "cell_type": "markdown",
      "metadata": {
        "id": "M3VhxdCjt7wy",
        "colab_type": "text"
      },
      "source": [
        "### Sorting dataframe"
      ]
    },
    {
      "cell_type": "code",
      "metadata": {
        "id": "WNG923z8ttNG",
        "colab_type": "code",
        "colab": {}
      },
      "source": [
        "# find the state with the largest population\n",
        "pop_2012 = pop.loc[(pop['ages'] == 'total') & (pop['year'] == 2012) & (pop['state'] != 'USA'),:]\n",
        "display(pop_2012.sort_values('population', ascending=False).head(10))"
      ],
      "execution_count": 0,
      "outputs": []
    },
    {
      "cell_type": "markdown",
      "metadata": {
        "id": "zwHRgmIuucpE",
        "colab_type": "text"
      },
      "source": [
        "#### Task 3"
      ]
    },
    {
      "cell_type": "code",
      "metadata": {
        "id": "og8TeIgIucyD",
        "colab_type": "code",
        "colab": {}
      },
      "source": [
        "# Find the 10th largest city in terms of population in 2010 based on age < 18.\n",
        "pop_2010_a18 = pop.loc[(pop['year'] == 2010) & (pop['ages'] == 'under18'), :]\n",
        "pop_2010_a18_sorted = pop_2010_a18.sort_values('population', ascending=False)\n",
        "# display(pop_2010_a18_sorted)\n",
        "\n",
        "pop_2010_a18_sorted.iloc[9, :]"
      ],
      "execution_count": 0,
      "outputs": []
    },
    {
      "cell_type": "markdown",
      "metadata": {
        "id": "tEOpWTc2KyIf",
        "colab_type": "text"
      },
      "source": [
        "### Join multiple dataframes"
      ]
    },
    {
      "cell_type": "code",
      "metadata": {
        "id": "W7A5fudBK5DE",
        "colab_type": "code",
        "colab": {}
      },
      "source": [
        "# Join pop dataframe with abbrevs and areas dataframes to find the areas for each state.\n",
        "areas = pd.read_csv('https://raw.githubusercontent.com/zariable/data/master/state-areas.csv')\n",
        "areas.rename(columns={'area (sq. mi)': 'area'}, inplace=True)\n",
        "display(areas.head())\n",
        "\n",
        "abbrevs = pd.read_csv('https://raw.githubusercontent.com/zariable/data/master/state-abbrevs.csv')\n",
        "display(abbrevs.head())\n",
        "\n",
        "pop.rename(columns={'state': 'abbreviation'}, inplace=True)\n",
        "pop_abbrevs_areas = pd.merge(pd.merge(pop, abbrevs), areas)\n",
        "\n",
        "display(pop_abbrevs_areas.head())"
      ],
      "execution_count": 0,
      "outputs": []
    },
    {
      "cell_type": "markdown",
      "metadata": {
        "id": "fr8pSKtTuFrj",
        "colab_type": "text"
      },
      "source": [
        "### Data aggregation"
      ]
    },
    {
      "cell_type": "code",
      "metadata": {
        "id": "Sk5UrlJ7uGw7",
        "colab_type": "code",
        "colab": {}
      },
      "source": [
        "# aggregate over a particular column\n",
        "display(pop_abbrevs_areas.groupby('year')['population'].sum().head())\n",
        "\n",
        "# different aggregations over different columns\n",
        "display(pop_abbrevs_areas.groupby('year').aggregate({\n",
        "    'population': ['mean', 'std'],\n",
        "    'area': ['max', 'min']}).head()\n",
        ")"
      ],
      "execution_count": 0,
      "outputs": []
    },
    {
      "cell_type": "markdown",
      "metadata": {
        "id": "KAIl_7WPuP4V",
        "colab_type": "text"
      },
      "source": [
        "#### Task 4"
      ]
    },
    {
      "cell_type": "code",
      "metadata": {
        "id": "O3cB0w2JuNCP",
        "colab_type": "code",
        "colab": {}
      },
      "source": [
        "# TODO: Get the min, max, mean and median of the population between 1990 and 2010 based on age group < 18.\n",
        "df3 = pop_abbrevs_areas.loc[(pop_abbrevs_areas['year'].isin(np.arange(1990, 2010))) \n",
        "                            & (pop_abbrevs_areas['ages'] == \"under18\"), :]\n",
        "\n",
        "df3.groupby('year').aggregate({\n",
        " 'population': ['min', 'max', 'mean', 'median']   \n",
        "})"
      ],
      "execution_count": 0,
      "outputs": []
    },
    {
      "cell_type": "markdown",
      "metadata": {
        "id": "HuK6b2nBuxG-",
        "colab_type": "text"
      },
      "source": [
        "## Case Study: Customer Churn\n",
        "\n",
        "Customer attrition, also known as customer churn, customer turnover, or customer defection, is the loss of clients or customers.\n",
        "\n",
        "Telephone service companies, Internet service providers, pay TV companies, insurance firms, and alarm monitoring services, often use customer attrition analysis and customer attrition rates as one of their key business metrics because the cost of retaining an existing customer is far less than acquiring a new one. Companies from these sectors often have customer service branches which attempt to win back defecting clients, because recovered long-term customers can be worth much more to a company than newly recruited clients.\n",
        "\n",
        "In this case study, we will apply exploratory data Analysis and build a machine learning model to predict customer churn by assessing their propensity of risk to churn. Since these models generate a small prioritized list of potential defectors, they are effective at focusing customer retention marketing programs on the subset of the customer base who are most vulnerable to churn."
      ]
    },
    {
      "cell_type": "code",
      "metadata": {
        "id": "wjeA8QkEcDFO",
        "colab_type": "code",
        "colab": {}
      },
      "source": [
        "# importing libraries\n",
        "import os\n",
        "import io\n",
        "import warnings\n",
        "\n",
        "import numpy as np\n",
        "import scipy as sp\n",
        "import pandas as pd\n",
        "import sklearn as sk\n",
        "\n",
        "import matplotlib as mpl\n",
        "import matplotlib.pyplot as plt\n",
        "%matplotlib inline\n",
        "import seaborn as sns\n",
        "sns.set()\n",
        "\n",
        "warnings.simplefilter(action='ignore', category=FutureWarning)"
      ],
      "execution_count": 0,
      "outputs": []
    },
    {
      "cell_type": "markdown",
      "metadata": {
        "id": "BJtlICU-vI_h",
        "colab_type": "text"
      },
      "source": [
        "### Data Overview"
      ]
    },
    {
      "cell_type": "markdown",
      "metadata": {
        "id": "4FkDhm6OcL4g",
        "colab_type": "text"
      },
      "source": [
        "load the data and take a peek at the data\n",
        "Each row represents a unique costumer, while the columns contains information about customer’s services, account, demographic and etc. The data set includes information about:\n",
        "\n",
        "- Column **Churn**: Customers who left within the last month.\n",
        "- Customer **Services** that one has signed up for: phone, multiple lines, internet, online security, online backup, device protection, tech support, and streaming TV and movies.\n",
        "- Customer **Account** information: how long they’ve been a customer, contract, payment method, paperless billing, monthly charges, and total charges.\n",
        "- Customer **Demographic** information:gender, age range, and if they have partners and dependents."
      ]
    },
    {
      "cell_type": "code",
      "metadata": {
        "id": "_PVk9fbFvDfJ",
        "colab_type": "code",
        "colab": {}
      },
      "source": [
        "# load data from CSV file\n",
        "df = pd.read_csv(\"https://raw.githubusercontent.com/zariable/data/master/telco_customer_churn.csv\")\n",
        "df.head()"
      ],
      "execution_count": 0,
      "outputs": []
    },
    {
      "cell_type": "code",
      "metadata": {
        "id": "TCh2V2evcVqy",
        "colab_type": "code",
        "colab": {}
      },
      "source": [
        "print(\"Rows     : \", df.shape[0])\n",
        "print(\"Columns  : \", df.shape[1])\n",
        "print(\"\\nFeatures : \\n\", list(df.columns))\n",
        "print(\"\\nMissing values :  \", df.isnull().sum().values.sum())\n",
        "print(\"\\nUnique values :  \\n\", df.nunique())\n"
      ],
      "execution_count": 0,
      "outputs": []
    },
    {
      "cell_type": "markdown",
      "metadata": {
        "id": "2JHc-fSgvJwb",
        "colab_type": "text"
      },
      "source": [
        "### Exploratory Data Analysis"
      ]
    },
    {
      "cell_type": "markdown",
      "metadata": {
        "id": "aKSf_UW-cdqp",
        "colab_type": "text"
      },
      "source": [
        "#### Impute missing values\n",
        "\n",
        "There are eleven missing values in \"TotalCharges\" for some of the customers with zero tenure. We can impute these values with zero as these customers probably haven't paid any bills yet."
      ]
    },
    {
      "cell_type": "code",
      "metadata": {
        "id": "ORyOhk2CckVQ",
        "colab_type": "code",
        "colab": {}
      },
      "source": [
        "df['TotalCharges'] = df['TotalCharges'].replace(\" \", 0).astype('float')\n",
        " \n",
        "# TODO: create a new column 'churn_rate' where the value is 1 if Churn equals Yes and 0 ow.\n",
        "df['churn_rate'] = df['Churn'].replace(\"No\", 0).replace(\"Yes\", 1)"
      ],
      "execution_count": 0,
      "outputs": []
    },
    {
      "cell_type": "markdown",
      "metadata": {
        "id": "CslnThd2crMO",
        "colab_type": "text"
      },
      "source": [
        "#### Target variable: Churn\n",
        "\n",
        "CHURN columns tells us about the number of Customers who left within the last month.\n",
        "\n",
        "    Churn: No - 73%\n",
        "    Churn: Yes - 27%\n"
      ]
    },
    {
      "cell_type": "code",
      "metadata": {
        "id": "KctsyN4mcuyt",
        "colab_type": "code",
        "colab": {}
      },
      "source": [
        "print(df['Churn'].value_counts())\n",
        "ax = sns.catplot(y='Churn', kind='count', data=df, height=2.5, aspect=2.5, orient='h')"
      ],
      "execution_count": 0,
      "outputs": []
    },
    {
      "cell_type": "markdown",
      "metadata": {
        "id": "WsBR6ADWc3Y4",
        "colab_type": "text"
      },
      "source": [
        "#### Numerical features\n",
        "\n",
        "There are only three numerical columns: tenure, monthly charges and total charges. The probability density distribution can be estimate using the seaborn kdeplot function.\n"
      ]
    },
    {
      "cell_type": "code",
      "metadata": {
        "id": "kGvyT_yFc3ue",
        "colab_type": "code",
        "colab": {}
      },
      "source": [
        "def distplot(feature, frame):\n",
        "    plt.figure(figsize=(8,3))\n",
        "    plt.title(\"Distribution for {}\".format(feature))\n",
        "    ax0 = sns.distplot(frame[frame['Churn'] == 'No'][feature], color= 'b', label='Churn: No')\n",
        "    ax1 = sns.distplot(frame[frame['Churn'] == 'Yes'][feature], color= 'g', label='Churn: Yes')\n",
        "    plt.legend()\n",
        "    plt.show()\n",
        "\n",
        "numerical_cols = ['tenure', 'MonthlyCharges']\n",
        "\n",
        "# show the statistics of column tenure and use distplot to plot the Distribution of tenure for Churn and Non-churn users.\n",
        "display(df['tenure'].describe())\n",
        "distplot('tenure', df)\n",
        "\n",
        "# TODO: apply the same analysis above to examine column MonthlyCharges\n",
        "display(df['MonthlyCharges'].describe())\n",
        "distplot('MonthlyCharges', df)\n"
      ],
      "execution_count": 0,
      "outputs": []
    },
    {
      "cell_type": "markdown",
      "metadata": {
        "id": "YnFCyeqbdSZs",
        "colab_type": "text"
      },
      "source": [
        "From the plots above we can conclude that:\n",
        "\n",
        "- Clients with very short tenure are very likely to churn.\n",
        "- Clients with higher monthly charges are more likely to churn.\n",
        "- Tenure and monthly charges are probably important features.\n",
        "\n",
        "Use scatter plot to check the distribution of customers based on both tenure and monthly charge. "
      ]
    },
    {
      "cell_type": "code",
      "metadata": {
        "id": "rCQjNgJIdcRf",
        "colab_type": "code",
        "colab": {}
      },
      "source": [
        "fig = plt.gcf()\n",
        "fig.set_size_inches(15, 10)\n",
        "ax = sns.scatterplot(x='tenure', y='MonthlyCharges', hue='Churn', style='Churn', alpha=0.5, data=df)"
      ],
      "execution_count": 0,
      "outputs": []
    },
    {
      "cell_type": "markdown",
      "metadata": {
        "id": "6v-ChII4d2Kv",
        "colab_type": "text"
      },
      "source": [
        "#### Categorical features\n",
        "\n",
        "This dataset has 16 categorical features. We will examine some of them to see if they are correlated with the target variable (churn rate)."
      ]
    },
    {
      "cell_type": "markdown",
      "metadata": {
        "id": "lb2KKGEleGyk",
        "colab_type": "text"
      },
      "source": [
        "##### Contract"
      ]
    },
    {
      "cell_type": "code",
      "metadata": {
        "id": "VIf-KonTdtul",
        "colab_type": "code",
        "colab": {}
      },
      "source": [
        "# sns.barplot(\"Contract\", \"churn_rate\", palette = \"Blues_d\", order= ['Month-to-month', 'One year', 'Two year'], data=df)\n",
        "\n",
        "# TODO: apply the same analysis to InternetService \n",
        "df.InternetService.unique()\n",
        "sns.barplot(\"InternetService\", \"churn_rate\", palette = \"Blues_d\", order= ['DSL', 'Fiber optic', 'No'], data=df)"
      ],
      "execution_count": 0,
      "outputs": []
    },
    {
      "cell_type": "markdown",
      "metadata": {
        "id": "dUV95KmYeJSE",
        "colab_type": "text"
      },
      "source": [
        "##### Partner and dependents"
      ]
    },
    {
      "cell_type": "code",
      "metadata": {
        "id": "0u-KqF2MeJaH",
        "colab_type": "code",
        "colab": {}
      },
      "source": [
        "fig, axis = plt.subplots(1, 2, figsize=(12,4))\n",
        "axis[0].set_title(\"Has partner\")\n",
        "axis[1].set_title(\"Has dependents\")\n",
        "axis_y = \"percentage of customers\"\n",
        "# Plot Partner column\n",
        "gp_partner = df.groupby('Partner')[\"Churn\"].value_counts()/len(df)\n",
        "gp_partner = gp_partner.to_frame().rename({\"Churn\": axis_y}, axis=1).reset_index()\n",
        "ax = sns.barplot(x='Partner', y= axis_y, hue='Churn', data=gp_partner, ax=axis[0])\n",
        "# Plot Dependents column\n",
        "gp_dep = df.groupby('Dependents')[\"Churn\"].value_counts()/len(df)\n",
        "gp_dep = gp_dep.to_frame().rename({\"Churn\": axis_y}, axis=1).reset_index()\n",
        "ax = sns.barplot(x='Dependents', y= axis_y, hue='Churn', data=gp_dep, ax=axis[1])"
      ],
      "execution_count": 0,
      "outputs": []
    },
    {
      "cell_type": "markdown",
      "metadata": {
        "id": "-B_AliLleSs5",
        "colab_type": "text"
      },
      "source": [
        "#### Correlation between feature and target variable\n",
        "\n",
        "We can use Correlation heatmap to visualize the correlation between features as well as feature and target variable."
      ]
    },
    {
      "cell_type": "code",
      "metadata": {
        "id": "nLNjoLLJeSzi",
        "colab_type": "code",
        "colab": {}
      },
      "source": [
        "plt.figure(figsize=(12, 6))\n",
        "corr = df[['gender', 'SeniorCitizen', 'Partner', 'Dependents',\n",
        "       'tenure', 'PhoneService', 'MultipleLines', 'InternetService',\n",
        "       'OnlineSecurity', 'OnlineBackup', 'DeviceProtection', 'TechSupport',\n",
        "       'StreamingTV', 'StreamingMovies', 'Contract', 'PaperlessBilling',\n",
        "       'PaymentMethod', 'MonthlyCharges', 'TotalCharges', 'Churn']].apply(lambda x: pd.factorize(x)[0]).corr()\n",
        "display(corr)\n",
        "ax = sns.heatmap(corr, xticklabels=corr.columns, yticklabels=corr.columns, linewidths=.2, cmap=\"YlGnBu\")"
      ],
      "execution_count": 0,
      "outputs": []
    },
    {
      "cell_type": "markdown",
      "metadata": {
        "id": "GYON9cI-uzDm",
        "colab_type": "text"
      },
      "source": [
        "# End of MSIS522 Lab 1\n"
      ]
    }
  ]
}