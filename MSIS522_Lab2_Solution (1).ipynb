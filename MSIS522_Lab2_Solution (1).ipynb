{
  "nbformat": 4,
  "nbformat_minor": 0,
  "metadata": {
    "colab": {
      "name": "MSIS522-Lab2-Solution",
      "provenance": [],
      "collapsed_sections": []
    },
    "kernelspec": {
      "name": "python3",
      "display_name": "Python 3"
    }
  },
  "cells": [
    {
      "cell_type": "markdown",
      "metadata": {
        "id": "BHmpd-7DqeVv",
        "colab_type": "text"
      },
      "source": [
        "# MSIS522 Lab 2"
      ]
    },
    {
      "cell_type": "markdown",
      "metadata": {
        "collapsed": true,
        "id": "yX-sgzDepjTa",
        "colab_type": "text"
      },
      "source": [
        "In this lab, we will go through how to use scikit-learn to build ML models, including linear regression, logistic regression, and decision tree. Also, we will cover how to use grid search and k-fold cross validation to find the best hyper-parameters for each model. "
      ]
    },
    {
      "cell_type": "code",
      "metadata": {
        "id": "qM8tHWtlpjTc",
        "colab_type": "code",
        "colab": {}
      },
      "source": [
        "# importing libraries\n",
        "import os\n",
        "import io\n",
        "import warnings\n",
        "\n",
        "import numpy as np\n",
        "import scipy as sp\n",
        "import pandas as pd\n",
        "import sklearn as sk\n",
        "\n",
        "import matplotlib as mpl\n",
        "import matplotlib.pyplot as plt\n",
        "from matplotlib.colors import ListedColormap\n",
        "%matplotlib inline\n",
        "import seaborn as sns\n",
        "sns.set()\n",
        "\n",
        "# evaluation metrics\n",
        "from sklearn.metrics import mean_squared_error\n",
        "from sklearn.metrics import r2_score\n",
        "from sklearn.metrics import accuracy_score\n",
        "from sklearn.metrics import roc_auc_score\n",
        "\n",
        "# grid search for model selection\n",
        "from sklearn.model_selection import GridSearchCV\n",
        "\n",
        "# linear regression\n",
        "from sklearn.linear_model import LinearRegression\n",
        "\n",
        "# logistic regression\n",
        "from sklearn.linear_model import LogisticRegression\n",
        "\n",
        "# decision tree\n",
        "from sklearn.tree import DecisionTreeClassifier\n",
        "from sklearn.tree import DecisionTreeRegressor\n",
        "\n",
        "warnings.simplefilter(action='ignore', category=FutureWarning)"
      ],
      "execution_count": 0,
      "outputs": []
    },
    {
      "cell_type": "markdown",
      "metadata": {
        "id": "EClJ2wxXpjTh",
        "colab_type": "text"
      },
      "source": [
        "## Linear Regression \n",
        "\n",
        "Linear Regression (LR) fits a linear model with coefficients w = (w1, …, wp) to minimize the residual sum of squares between the observed targets in the dataset, and the targets predicted by the linear approximation. For example, a modeler might want to relate the weights of individuals to their heights using a linear regression model."
      ]
    },
    {
      "cell_type": "markdown",
      "metadata": {
        "id": "leHZ6fOCpjTk",
        "colab_type": "text"
      },
      "source": [
        "### Load and visualize the data"
      ]
    },
    {
      "cell_type": "code",
      "metadata": {
        "id": "OmAlTch9pjTk",
        "colab_type": "code",
        "colab": {}
      },
      "source": [
        "# load data \n",
        "data = pd.read_csv('https://raw.githubusercontent.com/zariable/data/master/linear_regression_data.csv')\n",
        "\n",
        "# visualize\n",
        "sns.scatterplot(data.x, data.y)"
      ],
      "execution_count": 0,
      "outputs": []
    },
    {
      "cell_type": "markdown",
      "metadata": {
        "id": "yN17Pr_dpjTr",
        "colab_type": "text"
      },
      "source": [
        "### Train linear regression model\n",
        "\n",
        "Now try to train a linear regression to predict y using x, and print the coefficients of the linear model. [Hint: please refer to this [API](https://scikit-learn.org/stable/modules/generated/sklearn.linear_model.LinearRegression.html) to learn how to train a linear regression model using sklearn. ]"
      ]
    },
    {
      "cell_type": "code",
      "metadata": {
        "id": "kfO3dKonpjTt",
        "colab_type": "code",
        "colab": {}
      },
      "source": [
        "# TODO: Train linear regression model\n",
        "\n",
        "# model initialization\n",
        "linear_regression_model = LinearRegression()\n",
        "\n",
        "# fit the data(train the model)\n",
        "linear_regression_model.fit(data.loc[:, ['x']], data['y'])\n",
        "\n",
        "# print values\n",
        "print('Slope: {}'.format(linear_regression_model.coef_))\n",
        "print('Intercept: {}'.format(linear_regression_model.intercept_))"
      ],
      "execution_count": 0,
      "outputs": []
    },
    {
      "cell_type": "markdown",
      "metadata": {
        "id": "zdT-gykWsRI6",
        "colab_type": "text"
      },
      "source": [
        "### Visualize the linear regression model"
      ]
    },
    {
      "cell_type": "code",
      "metadata": {
        "id": "34la5YU8sUO6",
        "colab_type": "code",
        "colab": {}
      },
      "source": [
        "# visualize the linear model\n",
        "x_plot = np.linspace(0, 1.1, 100)\n",
        "y_plot = linear_regression_model.coef_[0] * x_plot + linear_regression_model.intercept_\n",
        "sns.lineplot(x_plot, y_plot, color='g')\n",
        "sns.scatterplot(data.x, data.y)"
      ],
      "execution_count": 0,
      "outputs": []
    },
    {
      "cell_type": "markdown",
      "metadata": {
        "id": "-Eg3ZOBdpjTw",
        "colab_type": "text"
      },
      "source": [
        "### Predict with a linear regression model\n",
        "\n",
        "Now we have a linear regression model trained. We would like to evaluate its performance and also use it to predict on new data points. Please refer to this [API](https://scikit-learn.org/stable/modules/generated/sklearn.linear_model.LinearRegression.html#sklearn.linear_model.LinearRegression.predict) to make prediction with the model you just trained."
      ]
    },
    {
      "cell_type": "code",
      "metadata": {
        "id": "Jmmzu726pjTy",
        "colab_type": "code",
        "colab": {}
      },
      "source": [
        "# TODO: Predict with a linear regression model\n",
        "\n",
        "# predict\n",
        "z = linear_regression_model.predict(data.loc[:, ['x']])\n",
        "y = data['y']"
      ],
      "execution_count": 0,
      "outputs": []
    },
    {
      "cell_type": "markdown",
      "metadata": {
        "id": "bGxY6njjpjT2",
        "colab_type": "text"
      },
      "source": [
        "### Evaluate the model performance on the training set\n",
        "\n",
        "Mean Squared Error (MSE) is the average of the sum of the squares of residuals, which is defined by\n",
        "\n",
        "\\begin{align}\n",
        "MSE = \\frac{1}{N}\\sum_{i=1}^N(y_i - z_i)^2\n",
        "\\end{align}\n",
        "\n",
        "$R^2$ score or the coefficient of determination explains how much the total variance of the dependent variable can be reduced by using the linear regression. $R^2$ is determined by\n",
        "\n",
        "\\begin{align}\n",
        "R^2 = 1 - \\frac{SS_r}{SS_t}\n",
        "\\end{align}\n",
        "\n",
        "where $SS_r = \\sum_{i=1}^N (y_i - \\bar{y})^2$ is the total sum of errors if we take the mean of the observed values as the predicted value and $SS_r = \\sum_{i=1}^N (y_i - z_i)^2$ is the sum of square of residuals."
      ]
    },
    {
      "cell_type": "markdown",
      "metadata": {
        "id": "2uRlRDfKpjT3",
        "colab_type": "text"
      },
      "source": [
        "#### Model Evaluation\n",
        "\n",
        "Define two functions in python: one for MSE and one for $R^2$."
      ]
    },
    {
      "cell_type": "code",
      "metadata": {
        "id": "c8tgsOOKpjT4",
        "colab_type": "code",
        "colab": {}
      },
      "source": [
        "# TODO: code up RMSE and R2 \n",
        "def mse(y, z):\n",
        "    return np.mean((y - z)**2)\n",
        "    \n",
        "def r2(y, z):\n",
        "    ssr = np.sum((y - z)**2)\n",
        "    sst = np.sum((y - np.mean(y))**2)\n",
        "    return 1 - (ssr / sst)\n",
        "    \n",
        "print('mean squared error: {}'.format(mse(y, z)))\n",
        "print('R2 score: {}'.format(r2(y, z)))"
      ],
      "execution_count": 0,
      "outputs": []
    },
    {
      "cell_type": "code",
      "metadata": {
        "id": "G7MQFEXnpjT9",
        "colab_type": "code",
        "colab": {}
      },
      "source": [
        "# use scikit learn's implementation\n",
        "mse = mean_squared_error(y, z)\n",
        "r2 = r2_score(y, z)\n",
        "\n",
        "print('mean squared error: {}'.format(mse))\n",
        "print('R2 score: {}'.format(r2))"
      ],
      "execution_count": 0,
      "outputs": []
    },
    {
      "cell_type": "markdown",
      "metadata": {
        "id": "-_WZZe4SpjUC",
        "colab_type": "text"
      },
      "source": [
        "---"
      ]
    },
    {
      "cell_type": "markdown",
      "metadata": {
        "id": "72zdMJvipjUD",
        "colab_type": "text"
      },
      "source": [
        "## Build ML model onHalf Moon Dataset"
      ]
    },
    {
      "cell_type": "markdown",
      "metadata": {
        "id": "pDEt-KiBpjUE",
        "colab_type": "text"
      },
      "source": [
        "### Load and visualize the data\n",
        "\n",
        "Half moon dataset is a synthetic dataset which we use to demonstrate building various ML models.\n",
        "\n"
      ]
    },
    {
      "cell_type": "code",
      "metadata": {
        "scrolled": true,
        "id": "JEfv1EbopjUG",
        "colab_type": "code",
        "colab": {}
      },
      "source": [
        "train_data = pd.read_csv('https://raw.githubusercontent.com/zariable/data/master/halfmoon_train.csv')\n",
        "train_x = train_data.loc[:,['x1', 'x2']]\n",
        "train_y = train_data.loc[:,'label']\n",
        "\n",
        "# visualize\n",
        "sns.scatterplot(train_data.x1, train_data.x2, hue=train_data.label)"
      ],
      "execution_count": 0,
      "outputs": []
    },
    {
      "cell_type": "code",
      "metadata": {
        "scrolled": false,
        "id": "f4JM_YT9pjUJ",
        "colab_type": "code",
        "colab": {}
      },
      "source": [
        "test_data = pd.read_csv('https://raw.githubusercontent.com/zariable/data/master/halfmoon_test.csv')\n",
        "test_x = test_data.loc[:,['x1', 'x2']]\n",
        "test_y = test_data.loc[:,'label']\n",
        "\n",
        "# visualize\n",
        "sns.scatterplot(test_data.x1, test_data.x2, hue=test_data.label)"
      ],
      "execution_count": 0,
      "outputs": []
    },
    {
      "cell_type": "markdown",
      "metadata": {
        "id": "3-Kbg6a-pjUM",
        "colab_type": "text"
      },
      "source": [
        "---"
      ]
    },
    {
      "cell_type": "markdown",
      "metadata": {
        "id": "JFOxmJHipjUO",
        "colab_type": "text"
      },
      "source": [
        "## Logistic Regression"
      ]
    },
    {
      "cell_type": "markdown",
      "metadata": {
        "id": "RNGZffYVpjUP",
        "colab_type": "text"
      },
      "source": [
        "### Train Logistic Regression Model\n",
        "In this exercise, we will use [LogisticRegression](https://scikit-learn.org/stable/modules/generated/sklearn.linear_model.LogisticRegression.html) API in scikit-learn to train a logistic regression model. Please checkout its documentation on how to construct a Logistic Regression model."
      ]
    },
    {
      "cell_type": "code",
      "metadata": {
        "id": "Eg0afhJPpjUQ",
        "colab_type": "code",
        "colab": {}
      },
      "source": [
        "# TODO: bulid logistic regression model\n",
        "\n",
        "# model initialization\n",
        "logistic_regression_model = LogisticRegression()\n",
        "\n",
        "# train the model\n",
        "logistic_regression_model.fit(train_data.loc[:, ['x1', 'x2']], train_data['label'])\n",
        "\n",
        "# print model parameters\n",
        "print('Slope: {}'.format(logistic_regression_model.coef_))\n",
        "print('Intercept: {}'.format(logistic_regression_model.intercept_))"
      ],
      "execution_count": 0,
      "outputs": []
    },
    {
      "cell_type": "markdown",
      "metadata": {
        "id": "ZDHG2VJRpjUS",
        "colab_type": "text"
      },
      "source": [
        "### Visualize the decision boundary\n",
        "\n",
        "In a statistical-classification problem with two classes, a decision boundary or decision surface is a hypersurface that partitions the underlying vector space into two sets, one for each class. The classifier will classify all the points on one side of the decision boundary as belonging to one class and all those on the other side as belonging to the other class. "
      ]
    },
    {
      "cell_type": "code",
      "metadata": {
        "id": "ZW4f6PQDpjUU",
        "colab_type": "code",
        "colab": {}
      },
      "source": [
        "# helper functions used to plot decision boundary\n",
        "def plot_decision_boundary(clf, X, y, axes=[-1.5, 2.5, -1, 1.5], alpha=0.5, contour=True):\n",
        "    \"\"\"\n",
        "    Plot the decision boundary of a learnt classifier\n",
        "    \"\"\"\n",
        "    if isinstance(X, pd.DataFrame):\n",
        "        X = X.values\n",
        "    if isinstance(y, pd.Series):\n",
        "        y = y.values\n",
        "    \n",
        "    x1s = np.linspace(axes[0], axes[1], 100)\n",
        "    x2s = np.linspace(axes[2], axes[3], 100)\n",
        "    x1, x2 = np.meshgrid(x1s, x2s)\n",
        "    X_new = np.c_[x1.ravel(), x2.ravel()]\n",
        "    y_pred = clf.predict(X_new).reshape(x1.shape)\n",
        "    custom_cmap = ListedColormap(['#fafab0','#9898ff','#a0faa0'])\n",
        "    plt.contourf(x1, x2, y_pred, alpha=0.3, cmap=custom_cmap)\n",
        "    if contour:\n",
        "        custom_cmap2 = ListedColormap(['#7d7d58','#4c4c7f','#507d50'])\n",
        "        plt.contour(x1, x2, y_pred, cmap=custom_cmap2, alpha=1)\n",
        "    plt.plot(X[:, 0][y==0], X[:, 1][y==0], \"yo\", alpha=alpha)\n",
        "    plt.plot(X[:, 0][y==1], X[:, 1][y==1], \"bs\", alpha=alpha)\n",
        "    plt.axis(axes)\n",
        "    plt.xlabel(r\"$x_1$\", fontsize=18)\n",
        "    plt.ylabel(r\"$x_2$\", fontsize=18, rotation=0)"
      ],
      "execution_count": 0,
      "outputs": []
    },
    {
      "cell_type": "code",
      "metadata": {
        "scrolled": true,
        "id": "itARyC5tpjUX",
        "colab_type": "code",
        "colab": {}
      },
      "source": [
        "# visualize the linear model\n",
        "plot_decision_boundary(logistic_regression_model, train_x, train_y)"
      ],
      "execution_count": 0,
      "outputs": []
    },
    {
      "cell_type": "markdown",
      "metadata": {
        "id": "ipZI8xf0pjUb",
        "colab_type": "text"
      },
      "source": [
        "### Predict with LR model\n",
        "\n",
        "Try to use the model you just trained to make predictions on the training data as well as the test data for evaluation using [predict](https://scikit-learn.org/stable/modules/generated/sklearn.linear_model.LogisticRegression.html#sklearn.linear_model.LogisticRegression.predict) API."
      ]
    },
    {
      "cell_type": "code",
      "metadata": {
        "id": "3KsBxdMypjUc",
        "colab_type": "code",
        "colab": {}
      },
      "source": [
        "#  TODO: use the RL model and make predictions on the training data as well as the test data\n",
        "\n",
        "train_z = logistic_regression_model.predict(train_x)\n",
        "test_z = logistic_regression_model.predict(test_x)"
      ],
      "execution_count": 0,
      "outputs": []
    },
    {
      "cell_type": "markdown",
      "metadata": {
        "id": "cmJClMFUpjUf",
        "colab_type": "text"
      },
      "source": [
        "### Evaluate LR model\n",
        "Now we evaluate the model performance on test data"
      ]
    },
    {
      "cell_type": "code",
      "metadata": {
        "scrolled": true,
        "id": "lO-Qjkd-pjUf",
        "colab_type": "code",
        "colab": {}
      },
      "source": [
        "print(\"model accuracy on train set: {}\".format(accuracy_score(train_y, train_z)))\n",
        "print(\"model accuracy on test set: {}\".format(accuracy_score(test_y, test_z)))"
      ],
      "execution_count": 0,
      "outputs": []
    },
    {
      "cell_type": "markdown",
      "metadata": {
        "id": "EfwwzB1DpjUi",
        "colab_type": "text"
      },
      "source": [
        "---"
      ]
    },
    {
      "cell_type": "markdown",
      "metadata": {
        "collapsed": true,
        "id": "c_uVoeNwpjUj",
        "colab_type": "text"
      },
      "source": [
        "## Decision Tree (DT)"
      ]
    },
    {
      "cell_type": "markdown",
      "metadata": {
        "id": "4q9m571fpjUj",
        "colab_type": "text"
      },
      "source": [
        "### Train DT model\n",
        "\n",
        "A decision tree is a flowchart-like structure in which each internal node represents a \"test\" on an attribute (e.g. whether a coin flip comes up heads or tails), each branch represents the outcome of the test, and each leaf node represents a class label (decision taken after computing all attributes).\n",
        "\n",
        "Please refer to this [DecisionTreeClassifier](https://scikit-learn.org/stable/modules/generated/sklearn.tree.DecisionTreeClassifier.html) API to learn how to train a decision tree model. To start with, you can choose the tree depth to be 2. You can come back later and play around with other parameter settings to see if you can further improve the model performance. "
      ]
    },
    {
      "cell_type": "code",
      "metadata": {
        "scrolled": true,
        "id": "uXj-K_w6pjUl",
        "colab_type": "code",
        "colab": {}
      },
      "source": [
        "# model initialization\n",
        "dt_model = DecisionTreeClassifier(max_depth=2)\n",
        "\n",
        "# train the model\n",
        "dt_model.fit(train_x, train_y)"
      ],
      "execution_count": 0,
      "outputs": []
    },
    {
      "cell_type": "markdown",
      "metadata": {
        "id": "gjQYIjCvpjUp",
        "colab_type": "text"
      },
      "source": [
        "### Visualize the decision boundary"
      ]
    },
    {
      "cell_type": "code",
      "metadata": {
        "scrolled": false,
        "id": "8JtSZf-5pjUp",
        "colab_type": "code",
        "colab": {}
      },
      "source": [
        "plot_decision_boundary(dt_model, train_x, train_y)"
      ],
      "execution_count": 0,
      "outputs": []
    },
    {
      "cell_type": "code",
      "metadata": {
        "id": "yKDA9qeypjUs",
        "colab_type": "code",
        "colab": {}
      },
      "source": [
        "from sklearn.externals.six import StringIO  \n",
        "from IPython.display import Image  \n",
        "from sklearn.tree import export_graphviz\n",
        "import pydotplus\n",
        "\n",
        "dot_data = StringIO()\n",
        "feature_names = train_x.columns\n",
        "class_names = train_y.unique().astype('U')\n",
        "class_names.sort()\n",
        "export_graphviz(dt_model, out_file=dot_data, feature_names=feature_names, class_names=class_names, filled=True, rounded=True)\n",
        "graph = pydotplus.graph_from_dot_data(dot_data.getvalue())  \n",
        "Image(graph.create_png())"
      ],
      "execution_count": 0,
      "outputs": []
    },
    {
      "cell_type": "markdown",
      "metadata": {
        "id": "jkNhJU_8pjUu",
        "colab_type": "text"
      },
      "source": [
        "### Predict with DT model\n",
        "\n",
        "Now we can make predictions using the decision tree model we just learned. With decision tree model, you can output the predicted class as well as its likelihood/probability with [predict](https://scikit-learn.org/stable/modules/generated/sklearn.tree.DecisionTreeClassifier.html#sklearn.tree.DecisionTreeClassifier.predict) and [predict_proba](https://scikit-learn.org/stable/modules/generated/sklearn.tree.DecisionTreeClassifier.html#sklearn.tree.DecisionTreeClassifier.predict_proba) respectively."
      ]
    },
    {
      "cell_type": "code",
      "metadata": {
        "id": "tjpyWLl0pjUw",
        "colab_type": "code",
        "colab": {}
      },
      "source": [
        "# TODO: use the decision model to make predictions. You can output both the predicted class as well as its likelihood.\n",
        "\n",
        "train_z = dt_model.predict(train_x)\n",
        "train_z_prob = dt_model.predict_proba(train_x)[:,1]\n",
        "\n",
        "test_z = dt_model.predict(test_x)\n",
        "test_z_prob = dt_model.predict_proba(test_x)[:,1]"
      ],
      "execution_count": 0,
      "outputs": []
    },
    {
      "cell_type": "markdown",
      "metadata": {
        "id": "Nb5vv_t1pjUy",
        "colab_type": "text"
      },
      "source": [
        "### Evaluate DT model"
      ]
    },
    {
      "cell_type": "code",
      "metadata": {
        "id": "xCYwVh_MpjUz",
        "colab_type": "code",
        "colab": {}
      },
      "source": [
        "print(\"model accuracy on train set: {}\".format(accuracy_score(train_y, train_z)))\n",
        "print(\"model ROC AUC on test set: {}\".format(roc_auc_score(train_y, train_z_prob)))\n",
        "print(\"model accuracy on test set: {}\".format(accuracy_score(test_y, test_z)))\n",
        "print(\"model ROC AUC on test set: {}\".format(roc_auc_score(test_y, test_z_prob)))"
      ],
      "execution_count": 0,
      "outputs": []
    },
    {
      "cell_type": "markdown",
      "metadata": {
        "id": "eOd4ucHppjU2",
        "colab_type": "text"
      },
      "source": [
        "### Hyper-parameter tuning\n",
        "\n",
        "Finally we try decision tree models with different hyper-parameter settings and find the best setting using k-fold cross-validation. You will need [GridSearchCV](https://scikit-learn.org/stable/modules/generated/sklearn.model_selection.GridSearchCV.html) for this task."
      ]
    },
    {
      "cell_type": "code",
      "metadata": {
        "id": "CFpn24QYpjU2",
        "colab_type": "code",
        "colab": {}
      },
      "source": [
        "# TODO: find the best hyper-parameters with grid search using k-fold cross-validation\n",
        "\n",
        "parameters = {\n",
        "    \"max_depth\": [2, 3, 4], \n",
        "    \"min_samples_split\": [0.05, 0.1, 0.2]\n",
        "}\n",
        "\n",
        "dtc = DecisionTreeClassifier()\n",
        "dtc_grid = GridSearchCV(dtc, parameters, cv=3)\n",
        "dtc_grid.fit(train_x, train_y)\n",
        "\n",
        "# summarize the results of the grid search\n",
        "print(\"The best score is {}\".format(dtc_grid.best_score_))\n",
        "print(\"The best hyper parameter setting is {}\".format(dtc_grid.best_params_))"
      ],
      "execution_count": 0,
      "outputs": []
    },
    {
      "cell_type": "code",
      "metadata": {
        "id": "vnXEHIpopjU7",
        "colab_type": "code",
        "colab": {}
      },
      "source": [
        "train_z = dtc_grid.predict(train_x)\n",
        "train_z_prob = dtc_grid.predict_proba(train_x)[:,1]\n",
        "\n",
        "test_z = dtc_grid.predict(test_x)\n",
        "test_z_prob = dtc_grid.predict_proba(test_x)[:,1]"
      ],
      "execution_count": 0,
      "outputs": []
    },
    {
      "cell_type": "code",
      "metadata": {
        "id": "8dyHPP5npjU9",
        "colab_type": "code",
        "colab": {}
      },
      "source": [
        "print(\"model accuracy on train set: {}\".format(accuracy_score(train_y, train_z)))\n",
        "print(\"model ROC AUC: {}\".format(roc_auc_score(train_y, train_z_prob)))\n",
        "print(\"model accuracy on test set: {}\".format(accuracy_score(test_y, test_z)))\n",
        "print(\"model ROC AUC: {}\".format(roc_auc_score(test_y, test_z_prob)))"
      ],
      "execution_count": 0,
      "outputs": []
    },
    {
      "cell_type": "markdown",
      "metadata": {
        "id": "WEMOVspYqiTH",
        "colab_type": "text"
      },
      "source": [
        "# End of MSIS522 Lab 2"
      ]
    }
  ]
}